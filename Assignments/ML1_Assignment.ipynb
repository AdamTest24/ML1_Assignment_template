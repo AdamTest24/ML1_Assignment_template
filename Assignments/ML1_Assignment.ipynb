{
 "cells": [
  {
   "cell_type": "markdown",
   "id": "e55ebb43",
   "metadata": {},
   "source": [
    "## L2D Assignment - Machine Learning 1:"
   ]
  },
  {
   "cell_type": "markdown",
   "id": "a49d1f7a",
   "metadata": {},
   "source": [
    "This notebook contains your assignment questions for the Classification  lesson. Please attempt and complete all questions. The topics this assignment will assess are:\n",
    "\n",
    "1. Classification\n",
    "\n",
    "\n",
    "When you have completed your assignment, please commit the changes to your GitHub repository's 'Assignments' folder, as instructed in the [Assignments section](https://learntodiscover.github.io/L2D-Handbook/section7.html) of the [L2D Handbook](https://learntodiscover.github.io/L2D-Handbook).\n"
   ]
  },
  {
   "cell_type": "markdown",
   "id": "2a121f5e-051a-4a73-bfc6-ef92c8ca6cc7",
   "metadata": {},
   "source": [
    "\n",
    "Repeat the training and prediction workflow as described in the Classification lesson for two other features in the data, namely: Systole and Diastole values. Use 70 training and 30 testing samples where the labels are assigned according to the condition: 0 if ‘non-smoker’, 1 if ‘smoker’.\n"
   ]
  },
  {
   "cell_type": "markdown",
   "id": "44a1924f",
   "metadata": {},
   "source": [
    "Use the code from the lesson to:\n",
    "\n",
    "1. Train the random forest classifier."
   ]
  },
  {
   "cell_type": "code",
   "execution_count": null,
   "id": "6ec8d385",
   "metadata": {
    "vscode": {
     "languageId": "plaintext"
    }
   },
   "outputs": [],
   "source": []
  },
  {
   "cell_type": "code",
   "execution_count": null,
   "id": "8bc99dc0",
   "metadata": {
    "vscode": {
     "languageId": "plaintext"
    }
   },
   "outputs": [],
   "source": []
  },
  {
   "cell_type": "markdown",
   "id": "b89427fc",
   "metadata": {},
   "source": [
    "2. Create state space plots with scatter plot, categorical colouring, and probability contour plot."
   ]
  },
  {
   "cell_type": "code",
   "execution_count": null,
   "id": "2f9200da",
   "metadata": {
    "vscode": {
     "languageId": "plaintext"
    }
   },
   "outputs": [],
   "source": []
  },
  {
   "cell_type": "markdown",
   "id": "2417239d",
   "metadata": {},
   "source": [
    "3. Compare the predicted and actual labels to check how well the trained model performed: how many of the 30 test data points are correctly predicted?"
   ]
  },
  {
   "cell_type": "code",
   "execution_count": null,
   "id": "5afb786d",
   "metadata": {
    "vscode": {
     "languageId": "plaintext"
    }
   },
   "outputs": [],
   "source": []
  },
  {
   "cell_type": "markdown",
   "id": "aeee2b0f",
   "metadata": {},
   "source": [
    "4. Plot the feature importance to check how much the systolic and diastolic values contributed to the predictions."
   ]
  },
  {
   "cell_type": "code",
   "execution_count": null,
   "id": "2edbcab5",
   "metadata": {
    "vscode": {
     "languageId": "plaintext"
    }
   },
   "outputs": [],
   "source": []
  }
 ],
 "metadata": {
  "kernelspec": {
   "display_name": "Python 3 (ipykernel)",
   "language": "python",
   "name": "python3"
  },
  "language_info": {
   "codemirror_mode": {
    "name": "ipython",
    "version": 3
   },
   "file_extension": ".py",
   "mimetype": "text/x-python",
   "name": "python",
   "nbconvert_exporter": "python",
   "pygments_lexer": "ipython3",
   "version": "3.12.4"
  }
 },
 "nbformat": 4,
 "nbformat_minor": 5
}
